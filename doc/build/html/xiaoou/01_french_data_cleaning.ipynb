{
 "cells": [
  {
   "cell_type": "markdown",
   "metadata": {
    "pycharm": {
     "name": "#%% md\n"
    }
   },
   "source": [
    "# French data cleaning"
   ]
  },
  {
   "cell_type": "markdown",
   "metadata": {
    "collapsed": false,
    "pycharm": {
     "name": "#%% md\n"
    }
   },
   "source": [
    "## Previously by Olga et Pascal\n",
    "\n",
    "Le fichier csv `pmi_frwac.csv` n'est pas très visible et contient trop d'informations."
   ]
  },
  {
   "cell_type": "code",
   "execution_count": 87,
   "metadata": {
    "collapsed": false,
    "pycharm": {
     "name": "#%%\n"
    }
   },
   "outputs": [],
   "source": [
    "# append custom functions created by xiaoou to path\n",
    "import os,sys,inspect\n",
    "current_dir = os.path.dirname(os.path.abspath(inspect.getfile(inspect.currentframe())))\n",
    "parent_dir = os.path.dirname(current_dir)\n",
    "# set and add script directory\n",
    "source_dir = os.path.join(parent_dir,\"src_page\")\n",
    "sys.path.insert(0,source_dir)\n",
    "# set data directory\n",
    "data_dir = r\"../../../frenchdata/\""
   ]
  },
  {
   "cell_type": "code",
   "execution_count": 88,
   "metadata": {
    "collapsed": false,
    "pycharm": {
     "name": "#%%\n"
    }
   },
   "outputs": [],
   "source": [
    "import pandas as pd\n",
    "import numpy as np\n",
    "import importlib\n",
    "import sys\n",
    "importlib.reload(sys.modules[\"utils_xo\"])\n",
    "from utils_xo import *"
   ]
  },
  {
   "cell_type": "code",
   "execution_count": 96,
   "metadata": {
    "collapsed": false,
    "pycharm": {
     "name": "#%%\n"
    }
   },
   "outputs": [],
   "source": [
    "fr_pmi_ancien_alt = xo_cleanfrwac_alt(data_dir+\"pmi_frwac.csv\")\n",
    "xo_write_json(data_dir+\"pmi_frwac_alt.json\",fr_pmi_ancien_alt)"
   ]
  },
  {
   "cell_type": "markdown",
   "metadata": {
    "collapsed": false
   },
   "source": [
    "## Manual correction\n",
    "\n",
    "J'ai dû corriger des fautes de natures très diverses (manque d'espace, problèmes de case) dans le fichier json, ce qui donne lieu à `pmi_frwac_alt_corrected` qui comprend tous les schémas dont il est possible de créer des paires de question/réponse."
   ]
  },
  {
   "cell_type": "code",
   "execution_count": 95,
   "metadata": {
    "collapsed": false,
    "pycharm": {
     "name": "#%%\n"
    }
   },
   "outputs": [
    {
     "name": "stdout",
     "output_type": "stream",
     "text": [
      "(93, 6)\n"
     ]
    },
    {
     "data": {
      "text/html": [
       "<div>\n",
       "<style scoped>\n",
       "    .dataframe tbody tr th:only-of-type {\n",
       "        vertical-align: middle;\n",
       "    }\n",
       "\n",
       "    .dataframe tbody tr th {\n",
       "        vertical-align: top;\n",
       "    }\n",
       "\n",
       "    .dataframe thead th {\n",
       "        text-align: right;\n",
       "    }\n",
       "</style>\n",
       "<table border=\"1\" class=\"dataframe\">\n",
       "  <thead>\n",
       "    <tr style=\"text-align: right;\">\n",
       "      <th></th>\n",
       "      <th>schema</th>\n",
       "      <th>type</th>\n",
       "      <th>nb_npropre</th>\n",
       "      <th>r0</th>\n",
       "      <th>r1</th>\n",
       "      <th>question</th>\n",
       "    </tr>\n",
       "  </thead>\n",
       "  <tbody>\n",
       "    <tr>\n",
       "      <th>0</th>\n",
       "      <td>1</td>\n",
       "      <td>alt</td>\n",
       "      <td>0</td>\n",
       "      <td>coupe</td>\n",
       "      <td>valise</td>\n",
       "      <td>Qu'est-ce qui est trop grand/petit ?</td>\n",
       "    </tr>\n",
       "    <tr>\n",
       "      <th>1</th>\n",
       "      <td>2</td>\n",
       "      <td>alt</td>\n",
       "      <td>2</td>\n",
       "      <td>Paul</td>\n",
       "      <td>Georges</td>\n",
       "      <td>Qui n'a pas réussi/n'a pas répondu ?</td>\n",
       "    </tr>\n",
       "    <tr>\n",
       "      <th>2</th>\n",
       "      <td>3</td>\n",
       "      <td>alt</td>\n",
       "      <td>0</td>\n",
       "      <td>avocat</td>\n",
       "      <td>témoin</td>\n",
       "      <td>Qui a refusé de répéter/répondre à la question ?</td>\n",
       "    </tr>\n",
       "    <tr>\n",
       "      <th>3</th>\n",
       "      <td>4</td>\n",
       "      <td>alt</td>\n",
       "      <td>1</td>\n",
       "      <td>Nicolas</td>\n",
       "      <td>fils</td>\n",
       "      <td>Qui était trop faible/lourd ?</td>\n",
       "    </tr>\n",
       "    <tr>\n",
       "      <th>4</th>\n",
       "      <td>5</td>\n",
       "      <td>alt</td>\n",
       "      <td>0</td>\n",
       "      <td>collégien</td>\n",
       "      <td>lycéen</td>\n",
       "      <td>Qui a-t-on puni/défendu ?</td>\n",
       "    </tr>\n",
       "  </tbody>\n",
       "</table>\n",
       "</div>"
      ],
      "text/plain": [
       "  schema type  nb_npropre         r0       r1  \\\n",
       "0      1  alt           0      coupe   valise   \n",
       "1      2  alt           2       Paul  Georges   \n",
       "2      3  alt           0     avocat   témoin   \n",
       "3      4  alt           1    Nicolas     fils   \n",
       "4      5  alt           0  collégien   lycéen   \n",
       "\n",
       "                                           question  \n",
       "0              Qu'est-ce qui est trop grand/petit ?  \n",
       "1              Qui n'a pas réussi/n'a pas répondu ?  \n",
       "2  Qui a refusé de répéter/répondre à la question ?  \n",
       "3                     Qui était trop faible/lourd ?  \n",
       "4                         Qui a-t-on puni/défendu ?  "
      ]
     },
     "execution_count": 95,
     "metadata": {},
     "output_type": "execute_result"
    }
   ],
   "source": [
    "demo_final = pd.read_json(data_dir+\"pmi_frwac_alt_corrected.json\")\n",
    "\n",
    "print(demo_final.shape)\n",
    "\n",
    "demo_final.head()"
   ]
  }
 ],
 "metadata": {
  "kernelspec": {
   "display_name": "Python3",
   "language": "python",
   "name": "base"
  },
  "language_info": {
   "codemirror_mode": {
    "name": "ipython",
    "version": 3
   },
   "file_extension": ".py",
   "mimetype": "text/x-python",
   "name": "python",
   "nbconvert_exporter": "python",
   "pygments_lexer": "ipython3",
   "version": "3.7.6-final"
  }
 },
 "nbformat": 4,
 "nbformat_minor": 2
}
